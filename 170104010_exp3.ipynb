{
  "nbformat": 4,
  "nbformat_minor": 0,
  "metadata": {
    "accelerator": "GPU",
    "colab": {
      "name": "s170104010-3 (1).ipynb",
      "provenance": []
    },
    "kernelspec": {
      "display_name": "Python 3",
      "language": "python",
      "name": "python3"
    },
    "language_info": {
      "codemirror_mode": {
        "name": "ipython",
        "version": 3
      },
      "file_extension": ".py",
      "mimetype": "text/x-python",
      "name": "python",
      "nbconvert_exporter": "python",
      "pygments_lexer": "ipython3",
      "version": "3.8.8"
    }
  },
  "cells": [
    {
      "cell_type": "code",
      "metadata": {
        "colab": {
          "base_uri": "https://localhost:8080/"
        },
        "id": "NkTZfo7fERtN",
        "outputId": "d7aa4a6b-6ffd-4d57-f03d-4cae5123e4b9"
      },
      "source": [
        "from google.colab import drive\n",
        "drive.mount('/content/drive')"
      ],
      "execution_count": 1,
      "outputs": [
        {
          "output_type": "stream",
          "name": "stdout",
          "text": [
            "Mounted at /content/drive\n"
          ]
        }
      ]
    },
    {
      "cell_type": "code",
      "metadata": {
        "id": "QTcjgcfCENwI"
      },
      "source": [
        "import os\n",
        "import pandas as pd\n",
        "import torch\n",
        "from torch.utils.data import Dataset, DataLoader  \n",
        "from skimage import io\n",
        "\n",
        "import torch\n",
        "import torch.nn as nn\n",
        "import torchvision.transforms as transforms\n",
        "import torch.nn.functional as f\n",
        "import torch.nn.functional as F\n",
        "\n"
      ],
      "execution_count": 2,
      "outputs": []
    },
    {
      "cell_type": "markdown",
      "metadata": {
        "id": "CdvCkig7I4fY"
      },
      "source": [
        "# Experiment 3"
      ]
    },
    {
      "cell_type": "code",
      "metadata": {
        "id": "WpoWmdLjJLML"
      },
      "source": [
        "train_csv2  = pd.read_csv('/content/drive/MyDrive/Soft computing/Dataset_2/verification_train.csv')\n",
        "test_csv2 = pd.read_csv('/content/drive/MyDrive/Soft computing/Dataset_2/verification_train.csv')"
      ],
      "execution_count": 3,
      "outputs": []
    },
    {
      "cell_type": "code",
      "metadata": {
        "id": "rtmU_CAKJlVN"
      },
      "source": [
        "import numpy as np\n",
        "class second_Dataset(Dataset):\n",
        "    \n",
        "    def __init__(self, data, transform = None):\n",
        "        self.data = list(data.values)\n",
        "        self.transform = transform\n",
        "        \n",
        "        label = []\n",
        "        image = []\n",
        "        \n",
        "        for i in self.data:\n",
        "             # first column is of labels.\n",
        "            label.append(i[0])\n",
        "            image.append(i[1:])\n",
        "        self.labels = np.asarray(label)\n",
        "        self.images = np.asarray(image).reshape(-1, 28, 28, 1).astype('float32')\n",
        "\n",
        "    def __getitem__(self, index):\n",
        "        label = self.labels[index]\n",
        "        image = self.images[index]\n",
        "        \n",
        "        if self.transform is not None:\n",
        "            image = self.transform(image)\n",
        "\n",
        "        return image, label\n",
        "\n",
        "    def __len__(self):\n",
        "        return len(self.images)"
      ],
      "execution_count": 4,
      "outputs": []
    },
    {
      "cell_type": "code",
      "metadata": {
        "id": "2eQD9F1YENwO"
      },
      "source": [
        ""
      ],
      "execution_count": null,
      "outputs": []
    },
    {
      "cell_type": "code",
      "metadata": {
        "id": "a1jEAEZCKQIU"
      },
      "source": [
        "train_set = second_Dataset(train_csv2, transform=transforms.Compose([transforms.ToTensor()]))\n",
        "test_set = second_Dataset(test_csv2, transform=transforms.Compose([transforms.ToTensor()]))\n",
        "\n",
        "train_loader = DataLoader(train_set, batch_size=100)\n",
        "test_loader = DataLoader(train_set, batch_size=100)"
      ],
      "execution_count": 5,
      "outputs": []
    },
    {
      "cell_type": "markdown",
      "metadata": {
        "id": "OywTz1uCLg_V"
      },
      "source": [
        "For experiment 1"
      ]
    },
    {
      "cell_type": "code",
      "metadata": {
        "id": "tdJtSw82MSSB"
      },
      "source": [
        "# Hyperparameters\n",
        "\n",
        "batch_size = 25\n",
        "num_iters = 20000\n",
        "input_dim = 28*28 # num_features = 784\n",
        "num_hidden = 200 # num of hidden nodes\n",
        "output_dim = 10\n",
        "\n",
        "learning_rate = 0.01  # More power so we can learn faster! previously it was 0.001"
      ],
      "execution_count": 6,
      "outputs": []
    },
    {
      "cell_type": "code",
      "metadata": {
        "colab": {
          "base_uri": "https://localhost:8080/"
        },
        "id": "_nFy7nzXENwU",
        "outputId": "859c14c5-6f50-4b65-bd4b-bf4ae0d79f8d"
      },
      "source": [
        "device = torch.device(\"cuda:0\" if torch.cuda.is_available() else \"cpu\")\n",
        "device"
      ],
      "execution_count": 7,
      "outputs": [
        {
          "output_type": "execute_result",
          "data": {
            "text/plain": [
              "device(type='cuda', index=0)"
            ]
          },
          "metadata": {},
          "execution_count": 7
        }
      ]
    },
    {
      "cell_type": "code",
      "metadata": {
        "id": "s7QV3DOEENwV"
      },
      "source": [
        "num_epochs = num_iters / (len(train_set) / batch_size)\n",
        "num_epochs = int(num_epochs)"
      ],
      "execution_count": 8,
      "outputs": []
    },
    {
      "cell_type": "code",
      "metadata": {
        "id": "iDfiTo7bENwY"
      },
      "source": [
        "train_loader = torch.utils.data.DataLoader(dataset=train_set, batch_size=batch_size, shuffle=True)  \n",
        "test_loader = torch.utils.data.DataLoader(dataset=test_set, batch_size=batch_size, shuffle=False)"
      ],
      "execution_count": 9,
      "outputs": []
    },
    {
      "cell_type": "code",
      "metadata": {
        "id": "03TzDrEJENwZ"
      },
      "source": [
        "class DeepNeuralNetworkModel(nn.Module):\n",
        "    def __init__(self):\n",
        "        super().__init__()\n",
        "        \n",
        "        self.fc1=nn.Linear(input_dim, num_hidden)  #flatten the image \n",
        "        self.fc2=nn.Linear(num_hidden,num_hidden)\n",
        "        self.fc3=nn.Linear(num_hidden,num_hidden)\n",
        "        self.fc4=nn.Linear(num_hidden,num_hidden)  \n",
        "        self.fc5=nn.Linear(num_hidden,num_hidden)\n",
        "        self.fc6=nn.Linear(num_hidden,10)\n",
        "        \n",
        "    def forward(self,x): # pass the data\n",
        "        \n",
        "        x=f.relu(self.fc1(x))\n",
        "        x=f.relu(self.fc2(x))\n",
        "        x=f.relu(self.fc3(x))\n",
        "        x=f.relu(self.fc4(x))\n",
        "        x=f.relu(self.fc5(x))\n",
        "        \n",
        "        x=self.fc6(x)\n",
        "        \n",
        "        return x\n",
        "#     def __init__(self, input_size, num_classes, num_hidden):\n",
        "#         super().__init__()\n",
        "#         self.fc_1 = nn.Linear(input_size, num_hidden)\n",
        "# #         self.relu_1 = nn.ReLU()\n",
        "\n",
        "#         self.fc_2 = nn.Linear(num_hidden, num_hidden)\n",
        "# #         self.relu_2 = nn.ReLU()\n",
        "\n",
        "#         self.fc_3 = nn.Linear(num_hidden, num_hidden)\n",
        "# #         self.relu_3 = nn.ReLU()\n",
        "\n",
        "#         self.fc_4 = nn.Linear(num_hidden, num_hidden)\n",
        "# #         self.relu_4 = nn.ReLU()\n",
        "\n",
        "#         self.fc_5 = nn.Linear(num_hidden, num_hidden)\n",
        "# #         self.relu_5 = nn.ReLU()\n",
        "\n",
        "#         self.fc_6 = nn.Linear(num_hidden, num_hidden)\n",
        "# #         self.relu_6 = nn.ReLU()\n",
        "#         self.linear_out = nn.Linear(num_hidden, num_classes)\n",
        "\n",
        "#     def forward(self, x):\n",
        "#         x  = self.fc_1(x)\n",
        "#         x = self.relu_1(x)\n",
        "        \n",
        "#         x  = self.fc_2(x)\n",
        "#         x = self.relu_2(x)\n",
        "        \n",
        "#         x  = self.fc_3(x)\n",
        "#         x = self.relu_3(x)\n",
        "        \n",
        "#         x  = self.fc_4(x)\n",
        "#         x = self.relu_4(x)\n",
        "\n",
        "#         x  = self.fc_5(x)\n",
        "#         x = self.relu_5(x)\n",
        "        \n",
        "#         x  = self.fc_6(x)\n",
        "#         x = self.relu_6(x)\n",
        "     \n",
        "#         probas  = self.linear_out(x)\n",
        "#         return probas"
      ],
      "execution_count": 10,
      "outputs": []
    },
    {
      "cell_type": "code",
      "metadata": {
        "colab": {
          "base_uri": "https://localhost:8080/"
        },
        "id": "aVMUWgHNENwb",
        "outputId": "97deb17f-8688-4547-8be2-0c47777cb702"
      },
      "source": [
        "model = DeepNeuralNetworkModel()\n",
        "model.to(device)"
      ],
      "execution_count": 11,
      "outputs": [
        {
          "output_type": "execute_result",
          "data": {
            "text/plain": [
              "DeepNeuralNetworkModel(\n",
              "  (fc1): Linear(in_features=784, out_features=200, bias=True)\n",
              "  (fc2): Linear(in_features=200, out_features=200, bias=True)\n",
              "  (fc3): Linear(in_features=200, out_features=200, bias=True)\n",
              "  (fc4): Linear(in_features=200, out_features=200, bias=True)\n",
              "  (fc5): Linear(in_features=200, out_features=200, bias=True)\n",
              "  (fc6): Linear(in_features=200, out_features=10, bias=True)\n",
              ")"
            ]
          },
          "metadata": {},
          "execution_count": 11
        }
      ]
    },
    {
      "cell_type": "code",
      "metadata": {
        "id": "-0xVDsz6ENwc"
      },
      "source": [
        "criterion = nn.CrossEntropyLoss()\n",
        "optimizer = torch.optim.SGD(model.parameters(), lr=learning_rate)"
      ],
      "execution_count": 12,
      "outputs": []
    },
    {
      "cell_type": "code",
      "metadata": {
        "colab": {
          "base_uri": "https://localhost:8080/"
        },
        "id": "Y4jqrqc3ENwd",
        "outputId": "c0ae5eed-cc96-448a-bf54-1aef53572f7b"
      },
      "source": [
        "iteration_loss= []\n",
        "iter = 0\n",
        "for epoch in range(num_epochs):\n",
        "    for i, (images, labels) in enumerate(train_loader):\n",
        "\n",
        "        images = images.view(-1, input_dim).to(device)\n",
        "        labels = labels.to(device)\n",
        "\n",
        "        # Clear gradients w.r.t. parameters\n",
        "        optimizer.zero_grad()\n",
        "\n",
        "        # Forward pass to get output/logits\n",
        "        outputs = model(images) \n",
        "\n",
        "        # Calculate Loss: softmax --> cross entropy loss\n",
        "        loss = criterion(outputs, labels)\n",
        "\n",
        "        # Getting gradients w.r.t. parameters\n",
        "        loss.backward()\n",
        "\n",
        "        # Updating parameters\n",
        "        optimizer.step()\n",
        "\n",
        "        iter += 1\n",
        "\n",
        "        if iter % 400 == 0:\n",
        "            # Calculate Accuracy         \n",
        "            correct = 0\n",
        "            total = 0\n",
        "            # Iterate through test dataset\n",
        "            for images, labels in test_loader:\n",
        "               \n",
        "                images = images.view(-1, input_dim).to(device)\n",
        "\n",
        "                # Forward pass only to get logits/output\n",
        "                outputs = model(images)\n",
        "\n",
        "                # Get predictions from the maximum value\n",
        "                _, predicted = torch.max(outputs, 1)\n",
        "\n",
        "                # Total number of labels\n",
        "                total += labels.size(0)\n",
        "\n",
        "\n",
        "                # Total correct predictions\n",
        "                if torch.cuda.is_available():\n",
        "                    correct += (predicted.cpu() == labels.cpu()).sum() \n",
        "                else:\n",
        "                    correct += (predicted == labels).sum()\n",
        "\n",
        "            accuracy = 100 * correct.item() / total\n",
        "\n",
        "            # Print Loss\n",
        "            iteration_loss.append(loss.item())\n",
        "            print('Iteration: {}. Loss: {}. Accuracy: {}'.format(iter, loss.item(), accuracy))"
      ],
      "execution_count": 13,
      "outputs": [
        {
          "output_type": "stream",
          "name": "stdout",
          "text": [
            "Iteration: 400. Loss: 0.717374861240387. Accuracy: 80.59\n",
            "Iteration: 800. Loss: 0.5522693395614624. Accuracy: 79.26833333333333\n",
            "Iteration: 1200. Loss: 0.7641915082931519. Accuracy: 75.455\n",
            "Iteration: 1600. Loss: 0.6599567532539368. Accuracy: 83.37333333333333\n",
            "Iteration: 2000. Loss: 0.2698345482349396. Accuracy: 82.23833333333333\n",
            "Iteration: 2400. Loss: 0.4690972566604614. Accuracy: 85.525\n",
            "Iteration: 2800. Loss: 0.5904788970947266. Accuracy: 84.44\n",
            "Iteration: 3200. Loss: 0.4572066366672516. Accuracy: 85.71666666666667\n",
            "Iteration: 3600. Loss: 0.514769434928894. Accuracy: 85.18333333333334\n",
            "Iteration: 4000. Loss: 0.47825804352760315. Accuracy: 87.02333333333333\n",
            "Iteration: 4400. Loss: 0.2655293345451355. Accuracy: 86.65333333333334\n",
            "Iteration: 4800. Loss: 0.4630606174468994. Accuracy: 86.22\n",
            "Iteration: 5200. Loss: 0.449105441570282. Accuracy: 87.46\n",
            "Iteration: 5600. Loss: 0.3015783429145813. Accuracy: 86.71333333333334\n",
            "Iteration: 6000. Loss: 0.27983179688453674. Accuracy: 87.79333333333334\n",
            "Iteration: 6400. Loss: 0.4554181694984436. Accuracy: 88.15333333333334\n",
            "Iteration: 6800. Loss: 0.3561841547489166. Accuracy: 87.45166666666667\n",
            "Iteration: 7200. Loss: 0.2391715794801712. Accuracy: 87.84\n",
            "Iteration: 7600. Loss: 0.16598550975322723. Accuracy: 88.03\n",
            "Iteration: 8000. Loss: 0.09407040476799011. Accuracy: 87.595\n",
            "Iteration: 8400. Loss: 0.4623979926109314. Accuracy: 88.73\n",
            "Iteration: 8800. Loss: 0.18970191478729248. Accuracy: 87.86833333333334\n",
            "Iteration: 9200. Loss: 0.4282004237174988. Accuracy: 89.20166666666667\n",
            "Iteration: 9600. Loss: 0.18056029081344604. Accuracy: 85.28833333333333\n",
            "Iteration: 10000. Loss: 0.29485368728637695. Accuracy: 88.425\n",
            "Iteration: 10400. Loss: 0.3028331696987152. Accuracy: 88.36\n",
            "Iteration: 10800. Loss: 0.46962761878967285. Accuracy: 89.04333333333334\n",
            "Iteration: 11200. Loss: 0.40666139125823975. Accuracy: 89.26666666666667\n",
            "Iteration: 11600. Loss: 0.32085859775543213. Accuracy: 88.99333333333334\n",
            "Iteration: 12000. Loss: 0.34918212890625. Accuracy: 89.67\n",
            "Iteration: 12400. Loss: 0.2921390235424042. Accuracy: 89.46\n",
            "Iteration: 12800. Loss: 0.7209729552268982. Accuracy: 89.24833333333333\n",
            "Iteration: 13200. Loss: 0.2673744261264801. Accuracy: 88.94833333333334\n",
            "Iteration: 13600. Loss: 0.30463242530822754. Accuracy: 89.04166666666667\n",
            "Iteration: 14000. Loss: 0.30333030223846436. Accuracy: 87.79666666666667\n",
            "Iteration: 14400. Loss: 0.14555723965168. Accuracy: 88.71\n",
            "Iteration: 14800. Loss: 0.18168094754219055. Accuracy: 89.39833333333333\n",
            "Iteration: 15200. Loss: 0.21783530712127686. Accuracy: 89.73833333333333\n",
            "Iteration: 15600. Loss: 0.397373765707016. Accuracy: 89.03833333333333\n",
            "Iteration: 16000. Loss: 0.2980499267578125. Accuracy: 89.695\n",
            "Iteration: 16400. Loss: 0.3772193491458893. Accuracy: 90.305\n",
            "Iteration: 16800. Loss: 0.4930651783943176. Accuracy: 90.26\n",
            "Iteration: 17200. Loss: 0.1462571769952774. Accuracy: 90.42333333333333\n",
            "Iteration: 17600. Loss: 0.27832093834877014. Accuracy: 90.025\n",
            "Iteration: 18000. Loss: 0.2856323719024658. Accuracy: 90.20333333333333\n",
            "Iteration: 18400. Loss: 0.30986693501472473. Accuracy: 89.26333333333334\n",
            "Iteration: 18800. Loss: 0.517113447189331. Accuracy: 90.17333333333333\n",
            "Iteration: 19200. Loss: 0.17392191290855408. Accuracy: 90.665\n"
          ]
        }
      ]
    },
    {
      "cell_type": "code",
      "metadata": {
        "colab": {
          "base_uri": "https://localhost:8080/",
          "height": 279
        },
        "id": "Egeoid1fNCBc",
        "outputId": "9e6c57fe-5336-469a-b6fe-fc553489271a"
      },
      "source": [
        "import matplotlib\n",
        "import matplotlib.pyplot as plt\n",
        "\n",
        "plt.plot(iteration_loss)\n",
        "plt.ylabel('Loss')\n",
        "plt.xlabel('Iteration (in every 400)')\n",
        "plt.show()"
      ],
      "execution_count": 14,
      "outputs": [
        {
          "output_type": "display_data",
          "data": {
            "image/png": "[encoded data removed]",
            "text/plain": [
              "<Figure size 432x288 with 1 Axes>"
            ]
          },
          "metadata": {
            "needs_background": "light"
          }
        }
      ]
    },
    {
      "cell_type": "code",
      "metadata": {
        "id": "elXhZZXaQRR_"
      },
      "source": [
        ""
      ],
      "execution_count": null,
      "outputs": []
    },
    {
      "cell_type": "markdown",
      "metadata": {
        "id": "EYDq9VlyQas5"
      },
      "source": [
        "For experiment 2"
      ]
    },
    {
      "cell_type": "code",
      "metadata": {
        "id": "MjVggKBIQsiB"
      },
      "source": [
        "# Hyperparameters\n",
        "\n",
        "batch_size = 25\n",
        "num_iters = 30000\n",
        "input_dim = 28*28 # num_features = 784\n",
        "num_hidden = 2000 # num of hidden nodes\n",
        "output_dim = 10\n",
        "\n",
        "learning_rate = 0.01  # More power so we can learn faster! previously it was 0.001"
      ],
      "execution_count": 15,
      "outputs": []
    },
    {
      "cell_type": "code",
      "metadata": {
        "colab": {
          "base_uri": "https://localhost:8080/"
        },
        "id": "GRY1nsigENwg",
        "outputId": "b696b1f2-7f35-4333-c38c-3b7f0535031d"
      },
      "source": [
        "num_epochs = num_iters / (len(train_set) / batch_size)\n",
        "num_epochs = int(num_epochs)\n",
        "num_epochs"
      ],
      "execution_count": 16,
      "outputs": [
        {
          "output_type": "execute_result",
          "data": {
            "text/plain": [
              "12"
            ]
          },
          "metadata": {},
          "execution_count": 16
        }
      ]
    },
    {
      "cell_type": "code",
      "metadata": {
        "id": "2rf9NMaEENwh"
      },
      "source": [
        "train_loader = torch.utils.data.DataLoader(dataset=train_set, batch_size=batch_size, shuffle=True)   \n",
        "test_loader = torch.utils.data.DataLoader(dataset=test_set, batch_size=batch_size, shuffle=False)  "
      ],
      "execution_count": 17,
      "outputs": []
    },
    {
      "cell_type": "code",
      "metadata": {
        "id": "-RGdvaGzENwh"
      },
      "source": [
        "class DeepNeuralNetworkModel(nn.Module):\n",
        "    def __init__(self):\n",
        "        super().__init__()\n",
        "        \n",
        "        self.fc1=nn.Linear(input_dim, num_hidden)  #flatten the image \n",
        "        self.fc2=nn.Linear(num_hidden,num_hidden)\n",
        "        self.fc3=nn.Linear(num_hidden,num_hidden)\n",
        "        self.fc4=nn.Linear(num_hidden,num_hidden)  \n",
        "        self.fc5=nn.Linear(num_hidden,num_hidden)\n",
        "        self.fc6=nn.Linear(num_hidden,10)\n",
        "        \n",
        "    def forward(self,x): # pass the data\n",
        "        \n",
        "        x=f.relu(self.fc1(x))\n",
        "        x=f.relu(self.fc2(x))\n",
        "        x=f.relu(self.fc3(x))\n",
        "        x=f.relu(self.fc4(x))\n",
        "        x=f.relu(self.fc5(x))\n",
        "        \n",
        "        x=self.fc6(x)\n",
        "        \n",
        "        return x\n",
        "\n",
        "# class DeepNeuralNetworkModel(nn.Module):\n",
        "#     def __init__(self, input_size, num_classes, num_hidden):\n",
        "#         super().__init__()\n",
        "#         self.fc_1 = nn.Linear(input_size, num_hidden)\n",
        "#         self.relu_1 = nn.ReLU()\n",
        "\n",
        "#         self.fc_2 = nn.Linear(num_hidden, num_hidden)\n",
        "#         self.relu_2 = nn.ReLU()\n",
        "\n",
        "#         self.fc_3 = nn.Linear(num_hidden, num_hidden)\n",
        "#         self.relu_3 = nn.ReLU()\n",
        "\n",
        "#         self.fc_4 = nn.Linear(num_hidden, num_hidden)\n",
        "#         self.relu_4 = nn.ReLU()\n",
        "\n",
        "#         self.fc_5 = nn.Linear(num_hidden, num_hidden)\n",
        "#         self.relu_5 = nn.ReLU()\n",
        "\n",
        "#         self.fc_6 = nn.Linear(num_hidden, num_hidden)\n",
        "#         self.relu_6 = nn.ReLU()\n",
        "#         self.linear_out = nn.Linear(num_hidden, num_classes)\n",
        "\n",
        "#     def forward(self, x):\n",
        "#         x  = self.fc_1(x)\n",
        "#         x = self.relu_1(x)\n",
        "        \n",
        "#         x  = self.fc_2(x)\n",
        "#         x = self.relu_2(x)\n",
        "        \n",
        "#         x  = self.fc_3(x)\n",
        "#         x = self.relu_3(x)\n",
        "        \n",
        "#         x  = self.fc_4(x)\n",
        "#         x = self.relu_4(x)\n",
        "\n",
        "#         x  = self.fc_5(x)\n",
        "#         x = self.relu_5(x)\n",
        "        \n",
        "#         x  = self.fc_6(x)\n",
        "#         x = self.relu_6(x)\n",
        "     \n",
        "#         probas  = self.linear_out(x)\n",
        "#         return probas"
      ],
      "execution_count": 18,
      "outputs": []
    },
    {
      "cell_type": "code",
      "metadata": {
        "colab": {
          "base_uri": "https://localhost:8080/"
        },
        "id": "zYrCx9CIENwi",
        "outputId": "b7f5d82e-f424-4cb8-dc76-56e347a23858"
      },
      "source": [
        "model = DeepNeuralNetworkModel()\n",
        "model.to(device)"
      ],
      "execution_count": 19,
      "outputs": [
        {
          "output_type": "execute_result",
          "data": {
            "text/plain": [
              "DeepNeuralNetworkModel(\n",
              "  (fc1): Linear(in_features=784, out_features=2000, bias=True)\n",
              "  (fc2): Linear(in_features=2000, out_features=2000, bias=True)\n",
              "  (fc3): Linear(in_features=2000, out_features=2000, bias=True)\n",
              "  (fc4): Linear(in_features=2000, out_features=2000, bias=True)\n",
              "  (fc5): Linear(in_features=2000, out_features=2000, bias=True)\n",
              "  (fc6): Linear(in_features=2000, out_features=10, bias=True)\n",
              ")"
            ]
          },
          "metadata": {},
          "execution_count": 19
        }
      ]
    },
    {
      "cell_type": "code",
      "metadata": {
        "id": "seqYFq6bENwj"
      },
      "source": [
        "criterion = nn.CrossEntropyLoss()\n",
        "optimizer = torch.optim.SGD(model.parameters(), lr=learning_rate)"
      ],
      "execution_count": 20,
      "outputs": []
    },
    {
      "cell_type": "code",
      "metadata": {
        "colab": {
          "base_uri": "https://localhost:8080/"
        },
        "id": "aZk6tUYIENwj",
        "outputId": "28ed234a-462f-4d9f-b360-02dce55e1cb5"
      },
      "source": [
        "iteration_loss2= []\n",
        "iter = 0\n",
        "for epoch in range(num_epochs):\n",
        "    for i, (images, labels) in enumerate(train_loader):\n",
        "\n",
        "        images = images.view(-1, input_dim).to(device)\n",
        "        labels = labels.to(device)\n",
        "\n",
        "        # Clear gradients w.r.t. parameters\n",
        "        optimizer.zero_grad()\n",
        "\n",
        "        # Forward pass to get output/logits\n",
        "        outputs = model(images) \n",
        "\n",
        "        # Calculate Loss: softmax --> cross entropy loss\n",
        "        loss = criterion(outputs, labels)\n",
        "\n",
        "        # Getting gradients w.r.t. parameters\n",
        "        loss.backward()\n",
        "\n",
        "        # Updating parameters\n",
        "        optimizer.step()\n",
        "\n",
        "        iter += 1\n",
        "\n",
        "        if iter % 400 == 0:\n",
        "            # Calculate Accuracy         \n",
        "            correct = 0\n",
        "            total = 0\n",
        "            # Iterate through test dataset\n",
        "            for images, labels in test_loader:\n",
        "               \n",
        "                images = images.view(-1, input_dim).to(device)\n",
        "\n",
        "                # Forward pass only to get logits/output\n",
        "                outputs = model(images)\n",
        "\n",
        "                # Get predictions from the maximum value\n",
        "                _, predicted = torch.max(outputs, 1)\n",
        "\n",
        "                # Total number of labels\n",
        "                total += labels.size(0)\n",
        "\n",
        "\n",
        "                # Total correct predictions\n",
        "                if torch.cuda.is_available():\n",
        "                    correct += (predicted.cpu() == labels.cpu()).sum() \n",
        "                else:\n",
        "                    correct += (predicted == labels).sum()\n",
        "\n",
        "            accuracy = 100 * correct.item() / total\n",
        "\n",
        "            # Print Loss\n",
        "            iteration_loss2.append(loss.item())\n",
        "            print('Iteration: {}. Loss: {}. Accuracy: {}'.format(iter, loss.item(), accuracy))"
      ],
      "execution_count": 21,
      "outputs": [
        {
          "output_type": "stream",
          "name": "stdout",
          "text": [
            "Iteration: 400. Loss: 0.498229056596756. Accuracy: 83.21\n",
            "Iteration: 800. Loss: 0.41942253708839417. Accuracy: 83.98333333333333\n",
            "Iteration: 1200. Loss: 0.3623669445514679. Accuracy: 85.99333333333334\n",
            "Iteration: 1600. Loss: 0.41576361656188965. Accuracy: 85.42166666666667\n",
            "Iteration: 2000. Loss: 0.22541891038417816. Accuracy: 85.63666666666667\n",
            "Iteration: 2400. Loss: 0.19044357538223267. Accuracy: 86.745\n",
            "Iteration: 2800. Loss: 0.3818157911300659. Accuracy: 87.67833333333333\n",
            "Iteration: 3200. Loss: 0.13513578474521637. Accuracy: 88.12166666666667\n",
            "Iteration: 3600. Loss: 0.1592450737953186. Accuracy: 87.25666666666666\n",
            "Iteration: 4000. Loss: 0.21749842166900635. Accuracy: 87.515\n",
            "Iteration: 4400. Loss: 0.5543738007545471. Accuracy: 89.26166666666667\n",
            "Iteration: 4800. Loss: 0.5042711496353149. Accuracy: 89.135\n",
            "Iteration: 5200. Loss: 0.34492504596710205. Accuracy: 89.705\n",
            "Iteration: 5600. Loss: 0.32577037811279297. Accuracy: 87.61333333333333\n",
            "Iteration: 6000. Loss: 0.331238716840744. Accuracy: 88.36333333333333\n",
            "Iteration: 6400. Loss: 0.25406715273857117. Accuracy: 89.22333333333333\n",
            "Iteration: 6800. Loss: 0.18575029075145721. Accuracy: 90.025\n",
            "Iteration: 7200. Loss: 0.2243882715702057. Accuracy: 89.66666666666667\n",
            "Iteration: 7600. Loss: 0.38367465138435364. Accuracy: 88.44\n",
            "Iteration: 8000. Loss: 0.215530127286911. Accuracy: 90.45166666666667\n",
            "Iteration: 8400. Loss: 0.17671306431293488. Accuracy: 90.45833333333333\n",
            "Iteration: 8800. Loss: 0.2509533762931824. Accuracy: 90.39\n",
            "Iteration: 9200. Loss: 0.26448529958724976. Accuracy: 89.56833333333333\n",
            "Iteration: 9600. Loss: 0.34121865034103394. Accuracy: 89.78333333333333\n",
            "Iteration: 10000. Loss: 0.040773916989564896. Accuracy: 91.31666666666666\n",
            "Iteration: 10400. Loss: 0.24714188277721405. Accuracy: 90.795\n",
            "Iteration: 10800. Loss: 0.14300374686717987. Accuracy: 89.835\n",
            "Iteration: 11200. Loss: 0.22362349927425385. Accuracy: 88.68166666666667\n",
            "Iteration: 11600. Loss: 0.2964121699333191. Accuracy: 90.30833333333334\n",
            "Iteration: 12000. Loss: 0.3247984051704407. Accuracy: 91.72166666666666\n",
            "Iteration: 12400. Loss: 0.5189319849014282. Accuracy: 92.39\n",
            "Iteration: 12800. Loss: 0.45452743768692017. Accuracy: 91.51\n",
            "Iteration: 13200. Loss: 0.08101360499858856. Accuracy: 90.89666666666666\n",
            "Iteration: 13600. Loss: 0.21688678860664368. Accuracy: 91.72833333333334\n",
            "Iteration: 14000. Loss: 0.22672496736049652. Accuracy: 91.88833333333334\n",
            "Iteration: 14400. Loss: 0.24380290508270264. Accuracy: 91.77\n",
            "Iteration: 14800. Loss: 0.26928362250328064. Accuracy: 92.90833333333333\n",
            "Iteration: 15200. Loss: 0.22297416627407074. Accuracy: 92.55666666666667\n",
            "Iteration: 15600. Loss: 0.13573820888996124. Accuracy: 92.355\n",
            "Iteration: 16000. Loss: 0.41113513708114624. Accuracy: 92.18833333333333\n",
            "Iteration: 16400. Loss: 0.22855490446090698. Accuracy: 92.21666666666667\n",
            "Iteration: 16800. Loss: 0.30036661028862. Accuracy: 92.51\n",
            "Iteration: 17200. Loss: 0.07105422765016556. Accuracy: 92.87\n",
            "Iteration: 17600. Loss: 0.11995551735162735. Accuracy: 93.50666666666666\n",
            "Iteration: 18000. Loss: 0.07285570353269577. Accuracy: 90.825\n",
            "Iteration: 18400. Loss: 0.24939978122711182. Accuracy: 92.47333333333333\n",
            "Iteration: 18800. Loss: 0.5433926582336426. Accuracy: 93.41666666666667\n",
            "Iteration: 19200. Loss: 0.116108238697052. Accuracy: 93.62666666666667\n",
            "Iteration: 19600. Loss: 0.08756435662508011. Accuracy: 94.06166666666667\n",
            "Iteration: 20000. Loss: 0.06981320679187775. Accuracy: 93.86166666666666\n",
            "Iteration: 20400. Loss: 0.10384276509284973. Accuracy: 93.09166666666667\n",
            "Iteration: 20800. Loss: 0.12303823232650757. Accuracy: 93.36666666666666\n",
            "Iteration: 21200. Loss: 0.17060703039169312. Accuracy: 93.54833333333333\n",
            "Iteration: 21600. Loss: 0.17812465131282806. Accuracy: 92.89\n",
            "Iteration: 22000. Loss: 0.045448560267686844. Accuracy: 93.54166666666667\n",
            "Iteration: 22400. Loss: 0.1894005388021469. Accuracy: 93.795\n",
            "Iteration: 22800. Loss: 0.06509868800640106. Accuracy: 94.69833333333334\n",
            "Iteration: 23200. Loss: 0.19219015538692474. Accuracy: 93.01666666666667\n",
            "Iteration: 23600. Loss: 0.170506551861763. Accuracy: 93.745\n",
            "Iteration: 24000. Loss: 0.3350602388381958. Accuracy: 94.09\n",
            "Iteration: 24400. Loss: 0.06600378453731537. Accuracy: 93.60833333333333\n",
            "Iteration: 24800. Loss: 0.17014740407466888. Accuracy: 94.65\n",
            "Iteration: 25200. Loss: 0.12318791449069977. Accuracy: 93.43166666666667\n",
            "Iteration: 25600. Loss: 0.10526301711797714. Accuracy: 93.60166666666667\n",
            "Iteration: 26000. Loss: 0.15583914518356323. Accuracy: 94.59166666666667\n",
            "Iteration: 26400. Loss: 0.28199589252471924. Accuracy: 94.36666666666666\n",
            "Iteration: 26800. Loss: 0.21907317638397217. Accuracy: 94.13166666666666\n",
            "Iteration: 27200. Loss: 0.18625155091285706. Accuracy: 94.04333333333334\n",
            "Iteration: 27600. Loss: 0.20044270157814026. Accuracy: 95.23166666666667\n",
            "Iteration: 28000. Loss: 0.1980142593383789. Accuracy: 93.85666666666667\n",
            "Iteration: 28400. Loss: 0.11304978281259537. Accuracy: 94.555\n",
            "Iteration: 28800. Loss: 0.12734027206897736. Accuracy: 95.215\n"
          ]
        }
      ]
    },
    {
      "cell_type": "code",
      "metadata": {
        "colab": {
          "base_uri": "https://localhost:8080/",
          "height": 279
        },
        "id": "sRwHUTSiRARF",
        "outputId": "2e7175d6-bb15-47c5-8638-d59409236f54"
      },
      "source": [
        "import matplotlib\n",
        "import matplotlib.pyplot as plt\n",
        "\n",
        "plt.plot(iteration_loss2)\n",
        "plt.ylabel('Loss')\n",
        "plt.xlabel('Iteration (in every 400)')\n",
        "plt.show()"
      ],
      "execution_count": 22,
      "outputs": [
        {
          "output_type": "display_data",
          "data": {
            "image/png": "[encoded data removed]",
            "text/plain": [
              "<Figure size 432x288 with 1 Axes>"
            ]
          },
          "metadata": {
            "needs_background": "light"
          }
        }
      ]
    },
    {
      "cell_type": "code",
      "metadata": {
        "colab": {
          "base_uri": "https://localhost:8080/"
        },
        "id": "nPuF3fuNVaRQ",
        "outputId": "bab1666f-4933-4cb8-bef2-9ab82b8b4f27"
      },
      "source": [
        "print(iteration_loss)"
      ],
      "execution_count": 23,
      "outputs": [
        {
          "output_type": "stream",
          "name": "stdout",
          "text": [
            "[0.717374861240387, 0.5522693395614624, 0.7641915082931519, 0.6599567532539368, 0.2698345482349396, 0.4690972566604614, 0.5904788970947266, 0.4572066366672516, 0.514769434928894, 0.47825804352760315, 0.2655293345451355, 0.4630606174468994, 0.449105441570282, 0.3015783429145813, 0.27983179688453674, 0.4554181694984436, 0.3561841547489166, 0.2391715794801712, 0.16598550975322723, 0.09407040476799011, 0.4623979926109314, 0.18970191478729248, 0.4282004237174988, 0.18056029081344604, 0.29485368728637695, 0.3028331696987152, 0.46962761878967285, 0.40666139125823975, 0.32085859775543213, 0.34918212890625, 0.2921390235424042, 0.7209729552268982, 0.2673744261264801, 0.30463242530822754, 0.30333030223846436, 0.14555723965168, 0.18168094754219055, 0.21783530712127686, 0.397373765707016, 0.2980499267578125, 0.3772193491458893, 0.4930651783943176, 0.1462571769952774, 0.27832093834877014, 0.2856323719024658, 0.30986693501472473, 0.517113447189331, 0.17392191290855408]\n"
          ]
        }
      ]
    },
    {
      "cell_type": "code",
      "metadata": {
        "colab": {
          "base_uri": "https://localhost:8080/"
        },
        "id": "IMqXCH_SENwl",
        "outputId": "b0252bae-cda2-4861-8b55-1dd4f6a9507c"
      },
      "source": [
        "print(iteration_loss2)"
      ],
      "execution_count": 24,
      "outputs": [
        {
          "output_type": "stream",
          "name": "stdout",
          "text": [
            "[0.498229056596756, 0.41942253708839417, 0.3623669445514679, 0.41576361656188965, 0.22541891038417816, 0.19044357538223267, 0.3818157911300659, 0.13513578474521637, 0.1592450737953186, 0.21749842166900635, 0.5543738007545471, 0.5042711496353149, 0.34492504596710205, 0.32577037811279297, 0.331238716840744, 0.25406715273857117, 0.18575029075145721, 0.2243882715702057, 0.38367465138435364, 0.215530127286911, 0.17671306431293488, 0.2509533762931824, 0.26448529958724976, 0.34121865034103394, 0.040773916989564896, 0.24714188277721405, 0.14300374686717987, 0.22362349927425385, 0.2964121699333191, 0.3247984051704407, 0.5189319849014282, 0.45452743768692017, 0.08101360499858856, 0.21688678860664368, 0.22672496736049652, 0.24380290508270264, 0.26928362250328064, 0.22297416627407074, 0.13573820888996124, 0.41113513708114624, 0.22855490446090698, 0.30036661028862, 0.07105422765016556, 0.11995551735162735, 0.07285570353269577, 0.24939978122711182, 0.5433926582336426, 0.116108238697052, 0.08756435662508011, 0.06981320679187775, 0.10384276509284973, 0.12303823232650757, 0.17060703039169312, 0.17812465131282806, 0.045448560267686844, 0.1894005388021469, 0.06509868800640106, 0.19219015538692474, 0.170506551861763, 0.3350602388381958, 0.06600378453731537, 0.17014740407466888, 0.12318791449069977, 0.10526301711797714, 0.15583914518356323, 0.28199589252471924, 0.21907317638397217, 0.18625155091285706, 0.20044270157814026, 0.1980142593383789, 0.11304978281259537, 0.12734027206897736]\n"
          ]
        }
      ]
    },
    {
      "cell_type": "code",
      "metadata": {
        "colab": {
          "base_uri": "https://localhost:8080/",
          "height": 609
        },
        "id": "A7bVjFkSENwl",
        "outputId": "cb81e7cf-75e1-40db-ee4f-3902acc6f469"
      },
      "source": [
        "plt.figure(figsize=(10, 10))\n",
        "plt.plot(iteration_loss, label='Loss 1st Model',color='r')\n",
        "plt.plot(iteration_loss2, label='Loss 2nd Model',color='g')\n",
        "plt.ylabel('Loss')\n",
        "plt.xlabel('Iteration')\n",
        "plt.legend()\n",
        "plt.grid()\n",
        "plt.show()"
      ],
      "execution_count": 26,
      "outputs": [
        {
          "output_type": "display_data",
          "data": {
            "image/png": "[encoded data removed]",
            "text/plain": [
              "<Figure size 720x720 with 1 Axes>"
            ]
          },
          "metadata": {
            "needs_background": "light"
          }
        }
      ]
    }
  ]
}